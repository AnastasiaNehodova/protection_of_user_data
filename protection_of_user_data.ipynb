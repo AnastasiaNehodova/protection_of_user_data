{
 "cells": [
  {
   "cell_type": "markdown",
   "metadata": {
    "toc": true
   },
   "source": [
    "<h1>Содержание<span class=\"tocSkip\"></span></h1>\n",
    "<div class=\"toc\"><ul class=\"toc-item\"><li><span><a href=\"#Загрузка-данных\" data-toc-modified-id=\"Загрузка-данных-1\"><span class=\"toc-item-num\">1&nbsp;&nbsp;</span>Загрузка данных</a></span></li><li><span><a href=\"#Умножение-матриц\" data-toc-modified-id=\"Умножение-матриц-2\"><span class=\"toc-item-num\">2&nbsp;&nbsp;</span>Умножение матриц</a></span></li><li><span><a href=\"#Алгоритм-преобразования\" data-toc-modified-id=\"Алгоритм-преобразования-3\"><span class=\"toc-item-num\">3&nbsp;&nbsp;</span>Алгоритм преобразования</a></span></li><li><span><a href=\"#Проверка-алгоритма\" data-toc-modified-id=\"Проверка-алгоритма-4\"><span class=\"toc-item-num\">4&nbsp;&nbsp;</span>Проверка алгоритма</a></span></li><li><span><a href=\"#Чек-лист-проверки\" data-toc-modified-id=\"Чек-лист-проверки-5\"><span class=\"toc-item-num\">5&nbsp;&nbsp;</span>Чек-лист проверки</a></span></li></ul></div>"
   ]
  },
  {
   "cell_type": "markdown",
   "metadata": {},
   "source": [
    "## Загрузка данных"
   ]
  },
  {
   "cell_type": "code",
   "execution_count": 1,
   "metadata": {},
   "outputs": [],
   "source": [
    "import numpy as np\n",
    "import pandas as pd\n",
    "from sklearn.metrics import mean_squared_error\n",
    "from sklearn.linear_model import LinearRegression\n",
    "from sklearn.metrics import r2_score\n",
    "import matplotlib.pyplot as plt"
   ]
  },
  {
   "cell_type": "code",
   "execution_count": 2,
   "metadata": {},
   "outputs": [],
   "source": [
    "try:\n",
    "    df = pd.read_csv('/datasets/insurance.csv')\n",
    "except:\n",
    "    df = pd.read_csv('...') "
   ]
  },
  {
   "cell_type": "code",
   "execution_count": 3,
   "metadata": {},
   "outputs": [
    {
     "data": {
      "text/html": [
       "<div>\n",
       "<style scoped>\n",
       "    .dataframe tbody tr th:only-of-type {\n",
       "        vertical-align: middle;\n",
       "    }\n",
       "\n",
       "    .dataframe tbody tr th {\n",
       "        vertical-align: top;\n",
       "    }\n",
       "\n",
       "    .dataframe thead th {\n",
       "        text-align: right;\n",
       "    }\n",
       "</style>\n",
       "<table border=\"1\" class=\"dataframe\">\n",
       "  <thead>\n",
       "    <tr style=\"text-align: right;\">\n",
       "      <th></th>\n",
       "      <th>Пол</th>\n",
       "      <th>Возраст</th>\n",
       "      <th>Зарплата</th>\n",
       "      <th>Члены семьи</th>\n",
       "      <th>Страховые выплаты</th>\n",
       "    </tr>\n",
       "  </thead>\n",
       "  <tbody>\n",
       "    <tr>\n",
       "      <th>0</th>\n",
       "      <td>1</td>\n",
       "      <td>41.0</td>\n",
       "      <td>49600.0</td>\n",
       "      <td>1</td>\n",
       "      <td>0</td>\n",
       "    </tr>\n",
       "    <tr>\n",
       "      <th>1</th>\n",
       "      <td>0</td>\n",
       "      <td>46.0</td>\n",
       "      <td>38000.0</td>\n",
       "      <td>1</td>\n",
       "      <td>1</td>\n",
       "    </tr>\n",
       "    <tr>\n",
       "      <th>2</th>\n",
       "      <td>0</td>\n",
       "      <td>29.0</td>\n",
       "      <td>21000.0</td>\n",
       "      <td>0</td>\n",
       "      <td>0</td>\n",
       "    </tr>\n",
       "    <tr>\n",
       "      <th>3</th>\n",
       "      <td>0</td>\n",
       "      <td>21.0</td>\n",
       "      <td>41700.0</td>\n",
       "      <td>2</td>\n",
       "      <td>0</td>\n",
       "    </tr>\n",
       "    <tr>\n",
       "      <th>4</th>\n",
       "      <td>1</td>\n",
       "      <td>28.0</td>\n",
       "      <td>26100.0</td>\n",
       "      <td>0</td>\n",
       "      <td>0</td>\n",
       "    </tr>\n",
       "    <tr>\n",
       "      <th>...</th>\n",
       "      <td>...</td>\n",
       "      <td>...</td>\n",
       "      <td>...</td>\n",
       "      <td>...</td>\n",
       "      <td>...</td>\n",
       "    </tr>\n",
       "    <tr>\n",
       "      <th>4995</th>\n",
       "      <td>0</td>\n",
       "      <td>28.0</td>\n",
       "      <td>35700.0</td>\n",
       "      <td>2</td>\n",
       "      <td>0</td>\n",
       "    </tr>\n",
       "    <tr>\n",
       "      <th>4996</th>\n",
       "      <td>0</td>\n",
       "      <td>34.0</td>\n",
       "      <td>52400.0</td>\n",
       "      <td>1</td>\n",
       "      <td>0</td>\n",
       "    </tr>\n",
       "    <tr>\n",
       "      <th>4997</th>\n",
       "      <td>0</td>\n",
       "      <td>20.0</td>\n",
       "      <td>33900.0</td>\n",
       "      <td>2</td>\n",
       "      <td>0</td>\n",
       "    </tr>\n",
       "    <tr>\n",
       "      <th>4998</th>\n",
       "      <td>1</td>\n",
       "      <td>22.0</td>\n",
       "      <td>32700.0</td>\n",
       "      <td>3</td>\n",
       "      <td>0</td>\n",
       "    </tr>\n",
       "    <tr>\n",
       "      <th>4999</th>\n",
       "      <td>1</td>\n",
       "      <td>28.0</td>\n",
       "      <td>40600.0</td>\n",
       "      <td>1</td>\n",
       "      <td>0</td>\n",
       "    </tr>\n",
       "  </tbody>\n",
       "</table>\n",
       "<p>5000 rows × 5 columns</p>\n",
       "</div>"
      ],
      "text/plain": [
       "      Пол  Возраст  Зарплата  Члены семьи  Страховые выплаты\n",
       "0       1     41.0   49600.0            1                  0\n",
       "1       0     46.0   38000.0            1                  1\n",
       "2       0     29.0   21000.0            0                  0\n",
       "3       0     21.0   41700.0            2                  0\n",
       "4       1     28.0   26100.0            0                  0\n",
       "...   ...      ...       ...          ...                ...\n",
       "4995    0     28.0   35700.0            2                  0\n",
       "4996    0     34.0   52400.0            1                  0\n",
       "4997    0     20.0   33900.0            2                  0\n",
       "4998    1     22.0   32700.0            3                  0\n",
       "4999    1     28.0   40600.0            1                  0\n",
       "\n",
       "[5000 rows x 5 columns]"
      ]
     },
     "execution_count": 3,
     "metadata": {},
     "output_type": "execute_result"
    }
   ],
   "source": [
    "df"
   ]
  },
  {
   "cell_type": "markdown",
   "metadata": {},
   "source": [
    "Дан датафрейм, содержащий 5000 записей, 4 столбца (Пол, Возраст, Зарплата, Члены семьи - признаки, Страховые выплаты - таргет)"
   ]
  },
  {
   "cell_type": "code",
   "execution_count": 4,
   "metadata": {},
   "outputs": [
    {
     "name": "stdout",
     "output_type": "stream",
     "text": [
      "<class 'pandas.core.frame.DataFrame'>\n",
      "RangeIndex: 5000 entries, 0 to 4999\n",
      "Data columns (total 5 columns):\n",
      " #   Column             Non-Null Count  Dtype  \n",
      "---  ------             --------------  -----  \n",
      " 0   Пол                5000 non-null   int64  \n",
      " 1   Возраст            5000 non-null   float64\n",
      " 2   Зарплата           5000 non-null   float64\n",
      " 3   Члены семьи        5000 non-null   int64  \n",
      " 4   Страховые выплаты  5000 non-null   int64  \n",
      "dtypes: float64(2), int64(3)\n",
      "memory usage: 195.4 KB\n"
     ]
    }
   ],
   "source": [
    "df.info()"
   ]
  },
  {
   "cell_type": "markdown",
   "metadata": {},
   "source": [
    "Пустых ячеек нет, 3 стобца типа int64, 2 типа float64"
   ]
  },
  {
   "cell_type": "code",
   "execution_count": 5,
   "metadata": {
    "scrolled": false
   },
   "outputs": [
    {
     "name": "stdout",
     "output_type": "stream",
     "text": [
      "Столбец: Пол\n",
      "Значения: [1 0]\n",
      "Количество: 2\n",
      "\n",
      "Столбец: Возраст\n",
      "Значения: [41. 46. 29. 21. 28. 43. 39. 25. 36. 32. 38. 23. 40. 34. 26. 42. 27. 33.\n",
      " 47. 30. 19. 31. 22. 20. 24. 18. 37. 48. 45. 44. 52. 49. 35. 56. 65. 55.\n",
      " 57. 54. 50. 53. 51. 58. 59. 60. 61. 62.]\n",
      "Количество: 46\n",
      "\n",
      "Столбец: Зарплата\n",
      "Значения: [49600. 38000. 21000. 41700. 26100. 41000. 39700. 38600. 49700. 51700.\n",
      " 36600. 29300. 39500. 55000. 43700. 23300. 48900. 33200. 36900. 43500.\n",
      " 36100. 26600. 48700. 40400. 38400. 34600. 34800. 36800. 42200. 46300.\n",
      " 30300. 51000. 28100. 64800. 30400. 45300. 38300. 49500. 19400. 40200.\n",
      " 31700. 69200. 33100. 31600. 34500. 38700. 39600. 42400. 34900. 30500.\n",
      " 24200. 49900. 14300. 47000. 44800. 43800. 42700. 35400. 57200. 29600.\n",
      " 37400. 48100. 33700. 61800. 39400. 15600. 52600. 37600. 52500. 32700.\n",
      " 51600. 60900. 41800. 47400. 26500. 45900. 35700. 34300. 26700. 25700.\n",
      " 33300. 31100. 31500. 42100. 37300. 42500. 27300. 46800. 33500. 44300.\n",
      " 41600. 53900. 40100. 44600. 45000. 32000. 38200. 33000. 38500. 51800.\n",
      " 33800. 46400. 43200. 31800. 50200. 35100. 30700. 45800. 49300. 42800.\n",
      " 33600. 50300. 34000. 36400. 44900. 43600. 54600. 52800. 29700. 39000.\n",
      " 44100. 31900. 37700. 35200. 43100. 51300. 47500. 40800. 26800. 64900.\n",
      " 35900. 31200. 39900. 43300. 33900. 40700. 44700. 53400. 30600. 56000.\n",
      " 35600. 55200. 40600. 48300. 50800. 41200. 44200. 44400. 40500. 39800.\n",
      " 16600. 48400. 25100. 23100. 32100. 31000. 42900. 46700. 26000. 55900.\n",
      " 52000. 41500. 49400. 60300. 45600. 49000. 37500. 21900. 45100. 47900.\n",
      " 54300. 32400. 41300. 44500. 23200. 37900. 48000. 52100. 45700. 29900.\n",
      " 42600. 45200. 36000. 46500. 23800. 30200. 24400. 32800. 29000. 43400.\n",
      " 51500. 61700. 45400. 50700. 36200. 41900. 27900. 47200. 48800. 55100.\n",
      " 48200. 35500. 35000. 43900. 40000. 22000. 40300. 36300. 49800. 25600.\n",
      " 42300. 54900. 25500. 32900. 36700. 38900. 24700. 28800. 22900. 47300.\n",
      " 14500. 28700. 44000. 34100. 53000. 59300. 28500. 47100. 41400. 58900.\n",
      " 17500. 54200. 43000. 29800. 20000. 13800. 27500. 67700. 28000. 37100.\n",
      "  8900. 14600. 56200. 38800. 27700. 50500. 58400. 34700. 34400. 49100.\n",
      " 50900. 28200. 61500. 32500. 25900.  9800. 28300. 41100. 62000. 32600.\n",
      " 37200. 53800. 24000. 53600. 54800. 59600. 20200. 21700. 29200. 38100.\n",
      " 20700. 32300. 21200. 62100. 54000. 24500. 51900. 47800. 56100. 55300.\n",
      " 58100. 28900. 39100. 58000. 27200. 24600. 30100. 57100. 60100. 22200.\n",
      " 47700. 24900. 37800. 52700. 34200. 18700. 42000. 26300. 22600. 30900.\n",
      " 35800. 30800. 51100. 53300. 46200. 24100. 54700. 51200. 62300. 51400.\n",
      " 40900. 23400. 35300. 55800. 33400. 21300. 30000. 56700. 46900.  5300.\n",
      " 39200. 57500. 31300. 53700. 21600. 50000. 36500. 16400. 15900. 65100.\n",
      " 59900. 63200. 26200. 61200. 48500. 32200. 29100. 50100. 22700. 28600.\n",
      " 23500. 23700. 19600. 17800. 50600. 57900. 22500. 22100. 58300. 64100.\n",
      " 25000. 60400. 59100. 37000. 62400. 29500. 25800. 25400. 26900. 21500.\n",
      " 52200. 46600. 57300. 46100. 19300. 18900. 31400. 28400. 29400. 17600.\n",
      " 13900. 52400. 11300. 46000. 60500. 58700. 58200. 24800. 63700. 60600.\n",
      " 20400. 26400. 55600. 57000. 45500. 48600. 57600. 52900. 62800. 17000.\n",
      " 56500. 52300. 18400. 63300. 12900. 27000. 55700. 39300. 27800. 18300.\n",
      " 56300. 59800. 24300. 14400. 13400. 17900. 47600. 54500. 54400. 23900.\n",
      " 13000. 19900. 55400. 22800. 61000. 57400. 23000. 20500. 53200. 18100.\n",
      " 25300. 59500. 18200. 50400. 21100. 20900. 27400. 17300. 60700. 70600.\n",
      " 17700. 19700. 49200. 63100. 59200. 14700. 53100. 21800. 68000. 16500.\n",
      " 71400. 10000. 55500. 54100. 56400. 20600. 66300. 18800. 11000. 66100.\n",
      " 27100. 57800. 53500. 19200. 58500. 64000. 63600. 23600. 25200. 19100.\n",
      " 18600. 57700. 62700. 56600. 21400. 58800. 68400. 17100. 13300. 68500.\n",
      " 56900. 64400. 27600. 67200. 16200. 58600. 62200. 16000. 79000. 22300.\n",
      " 11200. 71600. 61300. 70500. 67100. 59000. 13500. 16700. 15700. 60000.\n",
      " 17400. 63400. 61900. 65200. 62600. 14100. 20100. 63800. 15100. 70000.\n",
      " 60200. 20300. 65900. 15200. 63500. 13200. 68900. 12200.  6000. 74800.\n",
      " 59700. 10800. 19000. 10600. 69400. 15000. 75200. 62500. 16300. 20800.\n",
      "  7400. 65300. 61400. 56800.]\n",
      "Количество: 524\n",
      "\n",
      "Столбец: Члены семьи\n",
      "Значения: [1 0 2 4 3 5 6]\n",
      "Количество: 7\n",
      "\n",
      "Столбец: Страховые выплаты\n",
      "Значения: [0 1 2 3 5 4]\n",
      "Количество: 6\n",
      "\n"
     ]
    }
   ],
   "source": [
    "for column in df.columns:\n",
    "    print('Столбец:', column)\n",
    "    print('Значения:', df[column].unique())\n",
    "    print('Количество:', df[column].nunique())\n",
    "    print()"
   ]
  },
  {
   "cell_type": "code",
   "execution_count": 6,
   "metadata": {
    "scrolled": false
   },
   "outputs": [
    {
     "data": {
      "text/html": [
       "<div>\n",
       "<style scoped>\n",
       "    .dataframe tbody tr th:only-of-type {\n",
       "        vertical-align: middle;\n",
       "    }\n",
       "\n",
       "    .dataframe tbody tr th {\n",
       "        vertical-align: top;\n",
       "    }\n",
       "\n",
       "    .dataframe thead th {\n",
       "        text-align: right;\n",
       "    }\n",
       "</style>\n",
       "<table border=\"1\" class=\"dataframe\">\n",
       "  <thead>\n",
       "    <tr style=\"text-align: right;\">\n",
       "      <th></th>\n",
       "      <th>Пол</th>\n",
       "      <th>Возраст</th>\n",
       "      <th>Зарплата</th>\n",
       "      <th>Члены семьи</th>\n",
       "      <th>Страховые выплаты</th>\n",
       "    </tr>\n",
       "  </thead>\n",
       "  <tbody>\n",
       "    <tr>\n",
       "      <th>count</th>\n",
       "      <td>5000.000000</td>\n",
       "      <td>5000.000000</td>\n",
       "      <td>5000.000000</td>\n",
       "      <td>5000.000000</td>\n",
       "      <td>5000.000000</td>\n",
       "    </tr>\n",
       "    <tr>\n",
       "      <th>mean</th>\n",
       "      <td>0.499000</td>\n",
       "      <td>30.952800</td>\n",
       "      <td>39916.360000</td>\n",
       "      <td>1.194200</td>\n",
       "      <td>0.148000</td>\n",
       "    </tr>\n",
       "    <tr>\n",
       "      <th>std</th>\n",
       "      <td>0.500049</td>\n",
       "      <td>8.440807</td>\n",
       "      <td>9900.083569</td>\n",
       "      <td>1.091387</td>\n",
       "      <td>0.463183</td>\n",
       "    </tr>\n",
       "    <tr>\n",
       "      <th>min</th>\n",
       "      <td>0.000000</td>\n",
       "      <td>18.000000</td>\n",
       "      <td>5300.000000</td>\n",
       "      <td>0.000000</td>\n",
       "      <td>0.000000</td>\n",
       "    </tr>\n",
       "    <tr>\n",
       "      <th>25%</th>\n",
       "      <td>0.000000</td>\n",
       "      <td>24.000000</td>\n",
       "      <td>33300.000000</td>\n",
       "      <td>0.000000</td>\n",
       "      <td>0.000000</td>\n",
       "    </tr>\n",
       "    <tr>\n",
       "      <th>50%</th>\n",
       "      <td>0.000000</td>\n",
       "      <td>30.000000</td>\n",
       "      <td>40200.000000</td>\n",
       "      <td>1.000000</td>\n",
       "      <td>0.000000</td>\n",
       "    </tr>\n",
       "    <tr>\n",
       "      <th>75%</th>\n",
       "      <td>1.000000</td>\n",
       "      <td>37.000000</td>\n",
       "      <td>46600.000000</td>\n",
       "      <td>2.000000</td>\n",
       "      <td>0.000000</td>\n",
       "    </tr>\n",
       "    <tr>\n",
       "      <th>max</th>\n",
       "      <td>1.000000</td>\n",
       "      <td>65.000000</td>\n",
       "      <td>79000.000000</td>\n",
       "      <td>6.000000</td>\n",
       "      <td>5.000000</td>\n",
       "    </tr>\n",
       "  </tbody>\n",
       "</table>\n",
       "</div>"
      ],
      "text/plain": [
       "               Пол      Возраст      Зарплата  Члены семьи  Страховые выплаты\n",
       "count  5000.000000  5000.000000   5000.000000  5000.000000        5000.000000\n",
       "mean      0.499000    30.952800  39916.360000     1.194200           0.148000\n",
       "std       0.500049     8.440807   9900.083569     1.091387           0.463183\n",
       "min       0.000000    18.000000   5300.000000     0.000000           0.000000\n",
       "25%       0.000000    24.000000  33300.000000     0.000000           0.000000\n",
       "50%       0.000000    30.000000  40200.000000     1.000000           0.000000\n",
       "75%       1.000000    37.000000  46600.000000     2.000000           0.000000\n",
       "max       1.000000    65.000000  79000.000000     6.000000           5.000000"
      ]
     },
     "execution_count": 6,
     "metadata": {},
     "output_type": "execute_result"
    }
   ],
   "source": [
    "df.describe()"
   ]
  },
  {
   "cell_type": "markdown",
   "metadata": {},
   "source": [
    "Уникальные значения адекватные, выбросов нет. \n",
    "\n",
    "Пол имеет два значения (0, 1). Какое число соответствует какому полу не определено. Можно преобразовать к типу int8.\n",
    "\n",
    "Возраст измеряется в годах, распределен между 18 и 65 годами. Можно преобразовать к типу int8.\n",
    "\n",
    "Зарплата измеряется предположтельно в рублях, от 5300 до 79000. Возможно, что у клиента в зарплате присутствуют копейки, оставлю тип float64.\n",
    "\n",
    "Члены семьи - это количество членов семьи у клиента, от 0 до 6. Можно преобразовать к типу int8. \n",
    "\n",
    "Страховые выплаты - количество страховых выплат за 5 лет, от 0 до 5. Можно преобразовать к типу int8.\n"
   ]
  },
  {
   "cell_type": "code",
   "execution_count": 7,
   "metadata": {},
   "outputs": [
    {
     "data": {
      "text/plain": [
       "True"
      ]
     },
     "execution_count": 7,
     "metadata": {},
     "output_type": "execute_result"
    }
   ],
   "source": [
    "(df['Возраст'] == df['Возраст'].astype('int8')).all()"
   ]
  },
  {
   "cell_type": "markdown",
   "metadata": {},
   "source": [
    "Проверяю колонку Возраст, можно ли ее преобразовать из float64 в int8, так как числа с плавающей точкой могут преобразоваться к целому числу не верно."
   ]
  },
  {
   "cell_type": "code",
   "execution_count": 8,
   "metadata": {},
   "outputs": [
    {
     "name": "stdout",
     "output_type": "stream",
     "text": [
      "<class 'pandas.core.frame.DataFrame'>\n",
      "RangeIndex: 5000 entries, 0 to 4999\n",
      "Data columns (total 5 columns):\n",
      " #   Column             Non-Null Count  Dtype  \n",
      "---  ------             --------------  -----  \n",
      " 0   Пол                5000 non-null   int8   \n",
      " 1   Возраст            5000 non-null   int8   \n",
      " 2   Зарплата           5000 non-null   float64\n",
      " 3   Члены семьи        5000 non-null   int8   \n",
      " 4   Страховые выплаты  5000 non-null   int8   \n",
      "dtypes: float64(1), int8(4)\n",
      "memory usage: 58.7 KB\n"
     ]
    }
   ],
   "source": [
    "df[['Пол', 'Возраст', 'Члены семьи', 'Страховые выплаты']] = df[['Пол', 'Возраст', 'Члены семьи', 'Страховые выплаты']].apply(func=lambda x: x.astype('int8'), axis=1)\n",
    "df.info()"
   ]
  },
  {
   "cell_type": "markdown",
   "metadata": {},
   "source": [
    "Типы изменены."
   ]
  },
  {
   "cell_type": "code",
   "execution_count": 9,
   "metadata": {},
   "outputs": [
    {
     "data": {
      "text/plain": [
       "0    4436\n",
       "1     423\n",
       "2     115\n",
       "3      18\n",
       "4       7\n",
       "5       1\n",
       "Name: Страховые выплаты, dtype: int64"
      ]
     },
     "execution_count": 9,
     "metadata": {},
     "output_type": "execute_result"
    }
   ],
   "source": [
    "df['Страховые выплаты'].value_counts()"
   ]
  },
  {
   "cell_type": "markdown",
   "metadata": {},
   "source": [
    "Таргет распределен не равномерно, подавляющее большинство клинтов не имело страховых случаев."
   ]
  },
  {
   "cell_type": "code",
   "execution_count": 10,
   "metadata": {},
   "outputs": [],
   "source": [
    "cat_columns = ['Пол', 'Члены семьи', 'Страховые выплаты']\n",
    "num_columns = ['Возраст', 'Зарплата']"
   ]
  },
  {
   "cell_type": "code",
   "execution_count": 11,
   "metadata": {},
   "outputs": [
    {
     "data": {
      "image/png": "[encoded data removed]",
      "text/plain": [
       "<Figure size 900x600 with 1 Axes>"
      ]
     },
     "metadata": {},
     "output_type": "display_data"
    },
    {
     "data": {
      "image/png": "[encoded data removed]",
      "text/plain": [
       "<Figure size 900x600 with 1 Axes>"
      ]
     },
     "metadata": {},
     "output_type": "display_data"
    },
    {
     "data": {
      "image/png": "[encoded data removed]",
      "text/plain": [
       "<Figure size 900x600 with 1 Axes>"
      ]
     },
     "metadata": {},
     "output_type": "display_data"
    }
   ],
   "source": [
    "for column in cat_columns:\n",
    "    df[column].value_counts().sort_index().plot(kind='bar', title=f'Распределение колонки \"{column}\"', figsize=(9, 6))\n",
    "    plt.show()"
   ]
  },
  {
   "cell_type": "code",
   "execution_count": 12,
   "metadata": {},
   "outputs": [
    {
     "data": {
      "image/png": "[encoded data removed]",
      "text/plain": [
       "<Figure size 900x600 with 1 Axes>"
      ]
     },
     "metadata": {},
     "output_type": "display_data"
    },
    {
     "data": {
      "image/png": "[encoded data removed]",
      "text/plain": [
       "<Figure size 900x600 with 1 Axes>"
      ]
     },
     "metadata": {},
     "output_type": "display_data"
    }
   ],
   "source": [
    "for column in num_columns:\n",
    "    df[column].plot(kind='hist', bins=20, title=f'Распределение колонки \"{column}\"', figsize=(9, 6))\n",
    "    plt.show()"
   ]
  },
  {
   "cell_type": "markdown",
   "metadata": {},
   "source": [
    "По полу данные распределены равномерно, примерно половина данных одного и другого пола.Распределения признаков количество членов семьи и количество страховых выплат скошены влево, небольшие значения в них встечаются чаще. Распределение возраста тоже скошено влево, в основном клиенты стаховой компании - люди молодого возраста (до 40 лет). Распределение зарплат похоже на нормальное."
   ]
  },
  {
   "cell_type": "markdown",
   "metadata": {},
   "source": [
    "## Умножение матриц"
   ]
  },
  {
   "cell_type": "markdown",
   "metadata": {},
   "source": [
    "Обозначения:\n",
    "\n",
    "- $X$ — матрица признаков (нулевой столбец состоит из единиц)\n",
    "\n",
    "- $y$ — вектор целевого признака\n",
    "\n",
    "- $P$ — матрица, на которую умножаются признаки\n",
    "\n",
    "- $w$ — вектор весов линейной регрессии (нулевой элемент равен сдвигу)"
   ]
  },
  {
   "cell_type": "markdown",
   "metadata": {},
   "source": [
    "Предсказания:\n",
    "\n",
    "$$\n",
    "a = Xw\n",
    "$$\n",
    "\n",
    "Задача обучения:\n",
    "\n",
    "$$\n",
    "w = \\arg\\min_w MSE(Xw, y)\n",
    "$$\n",
    "\n",
    "Формула обучения:\n",
    "\n",
    "$$\n",
    "w = (X^T X)^{-1} X^T y\n",
    "$$"
   ]
  },
  {
   "cell_type": "markdown",
   "metadata": {},
   "source": [
    "$$\n",
    "a = Xw = X (X^T X)^{-1} X^T y\n",
    "$$\n",
    "\n",
    "заменю $X$ на $X P$, получаю:\n",
    "$$\\tilde a = X P ((X P)^T X P)^{-1} (X P)^T y$$\n",
    "воспользуюсь следующими свойствами матриц:\n",
    "$$A(BC) = (AB)C$$\n",
    "$$(A B)^{-1} = B^{-1} A^{-1}$$\n",
    "$$(A B)^T = B^T A^T$$\n",
    "$$A E = E A = A$$\n",
    "$$A A^{-1} = E$$\n",
    "$$(ABC)^{-1} =C^{-1} B^{-1} A^{-1}$$\n",
    "\n",
    "получаю:\n",
    "$$\\tilde a=XP((XP)^TXP)^{-1}(XP)^Ty=XP(P^TX^TXP)^{-1}(XP)^Ty=XP(P^T(X^TX)P)^{-1}(XP)^Ty=XPP^{-1}(X^TX)^{-1}(P^T)^{-1} (XP)^Ty=XE(X^TX)^{-1}(P^T)^{-1} (XP)^Ty=X(X^TX)^{-1}(P^T)^{-1} (XP)^Ty=X(X^TX)^{-1}(P^T)^{-1}P^TX^Ty=X(X^TX)^{-1}EX^Ty=X(X^TX)^{-1}X^Ty=a$$\n",
    "\n",
    "Вектор решений для матрицы исходных признаков совпал с вектором решений для матрицу признаков умноженную на любую не обратимую матрицу размера n + 1 на n + 1, где n - количество признаков"
   ]
  },
  {
   "cell_type": "markdown",
   "metadata": {},
   "source": [
    "## Алгоритм преобразования"
   ]
  },
  {
   "cell_type": "code",
   "execution_count": 13,
   "metadata": {},
   "outputs": [
    {
     "data": {
      "text/plain": [
       "array([[1.00e+00, 1.00e+00, 4.10e+01, 4.96e+04, 1.00e+00],\n",
       "       [1.00e+00, 0.00e+00, 4.60e+01, 3.80e+04, 1.00e+00],\n",
       "       [1.00e+00, 0.00e+00, 2.90e+01, 2.10e+04, 0.00e+00],\n",
       "       ...,\n",
       "       [1.00e+00, 0.00e+00, 2.00e+01, 3.39e+04, 2.00e+00],\n",
       "       [1.00e+00, 1.00e+00, 2.20e+01, 3.27e+04, 3.00e+00],\n",
       "       [1.00e+00, 1.00e+00, 2.80e+01, 4.06e+04, 1.00e+00]])"
      ]
     },
     "execution_count": 13,
     "metadata": {},
     "output_type": "execute_result"
    }
   ],
   "source": [
    "X = np.column_stack((np.ones(df.shape[0]), df.drop(columns=['Страховые выплаты']).values))\n",
    "X"
   ]
  },
  {
   "cell_type": "markdown",
   "metadata": {},
   "source": [
    "Добавляю к матрице признаков нулевой столбец, состоящий из 1"
   ]
  },
  {
   "cell_type": "code",
   "execution_count": 14,
   "metadata": {},
   "outputs": [
    {
     "data": {
      "text/plain": [
       "array([0, 1, 0, ..., 0, 0, 0], dtype=int8)"
      ]
     },
     "execution_count": 14,
     "metadata": {},
     "output_type": "execute_result"
    }
   ],
   "source": [
    "y = df['Страховые выплаты'].values\n",
    "y"
   ]
  },
  {
   "cell_type": "code",
   "execution_count": 15,
   "metadata": {},
   "outputs": [
    {
     "data": {
      "text/plain": [
       "array([ 0.51172715,  0.68431581,  0.09373365, ..., -0.25697046,\n",
       "       -0.19099161,  0.04904991])"
      ]
     },
     "execution_count": 15,
     "metadata": {},
     "output_type": "execute_result"
    }
   ],
   "source": [
    "y_pred = X @ np.linalg.inv(X.T @ X) @ X.T @ y\n",
    "y_pred"
   ]
  },
  {
   "cell_type": "markdown",
   "metadata": {},
   "source": [
    "Вектор предсказаний линейной регрессии, полученный с помощью аналитического решения задачи линейной регресии для не изменненых признаков"
   ]
  },
  {
   "cell_type": "code",
   "execution_count": 16,
   "metadata": {},
   "outputs": [],
   "source": [
    "def get_invertible_matrix(n):\n",
    "    while True:\n",
    "        P = np.random.normal(size=(n, n))\n",
    "        try:\n",
    "            np.linalg.inv(P)\n",
    "            return(P)\n",
    "        except np.linalg.LinAlgError:\n",
    "            pass           "
   ]
  },
  {
   "cell_type": "markdown",
   "metadata": {},
   "source": [
    "Функция выдающая случайную обратимую матрицу n на n"
   ]
  },
  {
   "cell_type": "code",
   "execution_count": 17,
   "metadata": {},
   "outputs": [
    {
     "data": {
      "text/plain": [
       "array([[ 0.98343253, -2.33382072, -0.27810455,  0.34756469, -0.40131485],\n",
       "       [ 0.36303586,  0.9331885 , -1.9476593 ,  0.5717987 ,  1.49372365],\n",
       "       [-0.51859639,  1.59644629, -0.63042978, -0.28542067,  0.94985674],\n",
       "       [-2.10749017,  0.33910513, -0.07880046,  0.1361431 ,  0.28158192],\n",
       "       [-0.252718  ,  0.34089153,  0.18107896, -1.3766585 ,  0.20464038]])"
      ]
     },
     "execution_count": 17,
     "metadata": {},
     "output_type": "execute_result"
    }
   ],
   "source": [
    "P = get_invertible_matrix(X.shape[1])\n",
    "P"
   ]
  },
  {
   "cell_type": "markdown",
   "metadata": {},
   "source": [
    "Получаю случайную обратиму матрицу P"
   ]
  },
  {
   "cell_type": "code",
   "execution_count": 18,
   "metadata": {},
   "outputs": [
    {
     "data": {
      "text/plain": [
       "array([[-104551.68097564,   16884.00905771,   -3936.39512824,\n",
       "           6740.5380486 ,   14006.70442687],\n",
       "       [ -80107.75105845,   12957.43858039,   -3023.51428032,\n",
       "           5159.27922596,   10743.60971044],\n",
       "       [ -44271.34936595,    7165.17087393,   -1673.37023084,\n",
       "           2851.07539373,    5940.36485883],\n",
       "       ...,\n",
       "       [ -71453.81058628,   11525.94083102,   -2683.86014061,\n",
       "           4607.13680894,    9564.63220192],\n",
       "       [ -68925.74926103,   11123.48164637,   -2592.32702835,\n",
       "           4442.38939188,    9230.33197497],\n",
       "       [ -85577.52772121,   13811.30907641,   -3218.99539996,\n",
       "           5518.96064797,   11460.11900572]])"
      ]
     },
     "execution_count": 18,
     "metadata": {},
     "output_type": "execute_result"
    }
   ],
   "source": [
    "X_ = X @ P\n",
    "X_"
   ]
  },
  {
   "cell_type": "markdown",
   "metadata": {},
   "source": [
    "Умножаю признаки на обратимую матрицу P"
   ]
  },
  {
   "cell_type": "code",
   "execution_count": 19,
   "metadata": {},
   "outputs": [
    {
     "data": {
      "text/plain": [
       "array([ 0.5117363 ,  0.68431684,  0.09373234, ..., -0.25697303,\n",
       "       -0.19099052,  0.04905824])"
      ]
     },
     "execution_count": 19,
     "metadata": {},
     "output_type": "execute_result"
    }
   ],
   "source": [
    "y_pred_ = X_ @ np.linalg.inv(X_.T @ X_) @ X_.T @ y\n",
    "y_pred_"
   ]
  },
  {
   "cell_type": "markdown",
   "metadata": {},
   "source": [
    "Вектор предсказаний линейной регрессии, полученный с помощью аналитического решения задачи линейной регресии для не изменненых признаков"
   ]
  },
  {
   "cell_type": "code",
   "execution_count": 20,
   "metadata": {},
   "outputs": [
    {
     "data": {
      "text/plain": [
       "2.8590684950531678e-11"
      ]
     },
     "execution_count": 20,
     "metadata": {},
     "output_type": "execute_result"
    }
   ],
   "source": [
    "mean_squared_error(y_pred, y_pred_)"
   ]
  },
  {
   "cell_type": "markdown",
   "metadata": {},
   "source": [
    "Разницу между результатами с первоначальной матрицей и измененной очень мала"
   ]
  },
  {
   "cell_type": "markdown",
   "metadata": {},
   "source": [
    "## Проверка алгоритма"
   ]
  },
  {
   "cell_type": "code",
   "execution_count": 21,
   "metadata": {},
   "outputs": [],
   "source": [
    "def get_encoded_matrix(X):\n",
    "    return X @ get_invertible_matrix(X.shape[1])"
   ]
  },
  {
   "cell_type": "markdown",
   "metadata": {},
   "source": [
    "функция выдает закодированную матрицу"
   ]
  },
  {
   "cell_type": "code",
   "execution_count": 22,
   "metadata": {},
   "outputs": [
    {
     "data": {
      "text/plain": [
       "array([[ 49898.73919733,  22405.97708344,  26841.85470616,\n",
       "        -15558.52455457, -47465.89004173],\n",
       "       [ 38241.05882005,  17183.69375637,  20583.42906802,\n",
       "        -11914.45108012, -36360.45916778],\n",
       "       [ 21135.82088596,   9501.38811368,  11379.71749836,\n",
       "         -6584.11865984, -20092.5081041 ],\n",
       "       ...,\n",
       "       [ 34097.99395438,  15301.51655835,  18333.92781569,\n",
       "        -10634.2761196 , -32443.31423982],\n",
       "       [ 32895.99002159,  14763.0275977 ,  17690.45237229,\n",
       "        -10256.66364242, -31293.83986324],\n",
       "       [ 40840.17044774,  18333.18926619,  21963.96976684,\n",
       "        -12737.2078827 , -38854.55460215]])"
      ]
     },
     "execution_count": 22,
     "metadata": {},
     "output_type": "execute_result"
    }
   ],
   "source": [
    "X_ = get_encoded_matrix(X)\n",
    "X_"
   ]
  },
  {
   "cell_type": "code",
   "execution_count": 23,
   "metadata": {},
   "outputs": [],
   "source": [
    "model = LinearRegression(fit_intercept=False)"
   ]
  },
  {
   "cell_type": "code",
   "execution_count": 24,
   "metadata": {},
   "outputs": [
    {
     "data": {
      "text/plain": [
       "0.42494550286668"
      ]
     },
     "execution_count": 24,
     "metadata": {},
     "output_type": "execute_result"
    }
   ],
   "source": [
    "model.fit(X, y)\n",
    "y_pred = model.predict(X)\n",
    "r2 = r2_score(y, y_pred)\n",
    "r2"
   ]
  },
  {
   "cell_type": "markdown",
   "metadata": {},
   "source": [
    "R2 для первоначальной матрицы признаков"
   ]
  },
  {
   "cell_type": "code",
   "execution_count": 25,
   "metadata": {},
   "outputs": [
    {
     "data": {
      "text/plain": [
       "0.42494550286706756"
      ]
     },
     "execution_count": 25,
     "metadata": {},
     "output_type": "execute_result"
    }
   ],
   "source": [
    "model.fit(X_, y)\n",
    "y_pred_ = model.predict(X_)\n",
    "r2_ = r2_score(y, y_pred_)\n",
    "r2_ "
   ]
  },
  {
   "cell_type": "markdown",
   "metadata": {},
   "source": [
    "R2 для закодированной матрицы признаков"
   ]
  },
  {
   "cell_type": "code",
   "execution_count": 26,
   "metadata": {},
   "outputs": [
    {
     "data": {
      "text/plain": [
       "3.8757885789664215e-13"
      ]
     },
     "execution_count": 26,
     "metadata": {},
     "output_type": "execute_result"
    }
   ],
   "source": [
    "abs(r2 - r2_)"
   ]
  },
  {
   "cell_type": "markdown",
   "metadata": {},
   "source": [
    "Разница между полученными оценками R2 очень мала. Метод кодирования признаков показал свою эффективность."
   ]
  }
 ],
 "metadata": {
  "ExecuteTimeLog": [
   {
    "duration": 48,
    "start_time": "2023-01-19T10:05:39.877Z"
   },
   {
    "duration": 462,
    "start_time": "2023-01-19T10:05:44.537Z"
   },
   {
    "duration": 99,
    "start_time": "2023-01-19T10:07:07.612Z"
   },
   {
    "duration": 22,
    "start_time": "2023-01-19T10:07:14.770Z"
   },
   {
    "duration": 25,
    "start_time": "2023-01-19T10:10:50.026Z"
   },
   {
    "duration": 12,
    "start_time": "2023-01-19T10:12:02.188Z"
   },
   {
    "duration": 5,
    "start_time": "2023-01-19T10:17:20.765Z"
   },
   {
    "duration": 5,
    "start_time": "2023-01-19T10:17:31.077Z"
   },
   {
    "duration": 11,
    "start_time": "2023-01-19T10:17:43.406Z"
   },
   {
    "duration": 5,
    "start_time": "2023-01-19T10:18:16.190Z"
   },
   {
    "duration": 5,
    "start_time": "2023-01-19T10:18:30.174Z"
   },
   {
    "duration": 9,
    "start_time": "2023-01-19T10:19:43.374Z"
   },
   {
    "duration": 6,
    "start_time": "2023-01-19T10:20:07.660Z"
   },
   {
    "duration": 5,
    "start_time": "2023-01-19T10:20:16.013Z"
   },
   {
    "duration": 16,
    "start_time": "2023-01-19T10:20:33.533Z"
   },
   {
    "duration": 57,
    "start_time": "2023-01-19T10:49:23.065Z"
   },
   {
    "duration": 425,
    "start_time": "2023-01-19T10:49:28.480Z"
   },
   {
    "duration": 115,
    "start_time": "2023-01-19T10:49:30.528Z"
   },
   {
    "duration": 19,
    "start_time": "2023-01-19T10:49:32.926Z"
   },
   {
    "duration": 14,
    "start_time": "2023-01-19T10:49:35.813Z"
   },
   {
    "duration": 6,
    "start_time": "2023-01-19T10:49:38.038Z"
   },
   {
    "duration": 6,
    "start_time": "2023-01-19T10:49:55.543Z"
   },
   {
    "duration": 7,
    "start_time": "2023-01-19T10:53:36.550Z"
   },
   {
    "duration": 6,
    "start_time": "2023-01-19T10:54:01.176Z"
   },
   {
    "duration": 4,
    "start_time": "2023-01-19T10:54:28.288Z"
   },
   {
    "duration": 7,
    "start_time": "2023-01-19T10:55:08.456Z"
   },
   {
    "duration": 20,
    "start_time": "2023-01-19T10:55:30.796Z"
   },
   {
    "duration": 14,
    "start_time": "2023-01-19T10:55:42.885Z"
   },
   {
    "duration": 12,
    "start_time": "2023-01-19T10:57:18.481Z"
   },
   {
    "duration": 15,
    "start_time": "2023-01-19T10:57:26.622Z"
   },
   {
    "duration": 5,
    "start_time": "2023-01-19T10:57:56.508Z"
   },
   {
    "duration": 4,
    "start_time": "2023-01-19T11:02:15.787Z"
   },
   {
    "duration": 6,
    "start_time": "2023-01-19T11:02:29.138Z"
   },
   {
    "duration": 5,
    "start_time": "2023-01-19T11:02:51.689Z"
   },
   {
    "duration": 10,
    "start_time": "2023-01-19T11:03:02.521Z"
   },
   {
    "duration": 9,
    "start_time": "2023-01-19T11:03:23.553Z"
   },
   {
    "duration": 7,
    "start_time": "2023-01-19T11:07:04.579Z"
   },
   {
    "duration": 6,
    "start_time": "2023-01-19T11:07:14.326Z"
   },
   {
    "duration": 7,
    "start_time": "2023-01-19T11:07:28.445Z"
   },
   {
    "duration": 12,
    "start_time": "2023-01-19T11:07:49.443Z"
   },
   {
    "duration": 14,
    "start_time": "2023-01-19T11:07:55.772Z"
   },
   {
    "duration": 39,
    "start_time": "2023-01-19T11:12:13.508Z"
   },
   {
    "duration": 4,
    "start_time": "2023-01-19T11:12:34.820Z"
   },
   {
    "duration": 10,
    "start_time": "2023-01-19T11:13:18.739Z"
   },
   {
    "duration": 10,
    "start_time": "2023-01-19T11:14:22.564Z"
   },
   {
    "duration": 51,
    "start_time": "2023-01-19T11:19:31.766Z"
   },
   {
    "duration": 12,
    "start_time": "2023-01-19T11:19:57.934Z"
   },
   {
    "duration": 14,
    "start_time": "2023-01-19T11:20:28.894Z"
   },
   {
    "duration": 12,
    "start_time": "2023-01-19T11:20:57.294Z"
   },
   {
    "duration": 411,
    "start_time": "2023-01-19T11:26:32.526Z"
   },
   {
    "duration": 3391,
    "start_time": "2023-01-19T11:26:44.354Z"
   },
   {
    "duration": 2,
    "start_time": "2023-01-19T11:27:49.774Z"
   },
   {
    "duration": 6,
    "start_time": "2023-01-19T11:31:37.686Z"
   },
   {
    "duration": 6,
    "start_time": "2023-01-19T11:31:50.486Z"
   },
   {
    "duration": 13,
    "start_time": "2023-01-19T11:41:04.672Z"
   },
   {
    "duration": 5,
    "start_time": "2023-01-19T11:41:12.945Z"
   },
   {
    "duration": 116,
    "start_time": "2023-01-19T11:44:26.272Z"
   },
   {
    "duration": 82,
    "start_time": "2023-01-19T11:45:43.090Z"
   },
   {
    "duration": 5,
    "start_time": "2023-01-19T11:46:15.152Z"
   },
   {
    "duration": 4,
    "start_time": "2023-01-19T11:46:47.721Z"
   },
   {
    "duration": 4,
    "start_time": "2023-01-19T11:46:52.664Z"
   },
   {
    "duration": 3,
    "start_time": "2023-01-19T11:47:35.385Z"
   },
   {
    "duration": 90,
    "start_time": "2023-01-19T11:48:13.724Z"
   },
   {
    "duration": 87,
    "start_time": "2023-01-19T11:48:30.024Z"
   },
   {
    "duration": 171,
    "start_time": "2023-01-19T11:50:41.052Z"
   },
   {
    "duration": 6,
    "start_time": "2023-01-19T11:51:25.731Z"
   },
   {
    "duration": 6,
    "start_time": "2023-01-19T11:51:36.865Z"
   },
   {
    "duration": 6,
    "start_time": "2023-01-19T11:51:50.495Z"
   },
   {
    "duration": 7,
    "start_time": "2023-01-19T11:52:01.475Z"
   },
   {
    "duration": 3,
    "start_time": "2023-01-19T11:52:26.953Z"
   },
   {
    "duration": 5,
    "start_time": "2023-01-19T11:52:30.681Z"
   },
   {
    "duration": 5,
    "start_time": "2023-01-19T12:02:17.387Z"
   },
   {
    "duration": 6,
    "start_time": "2023-01-19T12:02:25.320Z"
   },
   {
    "duration": 3,
    "start_time": "2023-01-19T12:02:30.196Z"
   },
   {
    "duration": 4,
    "start_time": "2023-01-19T12:02:35.215Z"
   },
   {
    "duration": 73,
    "start_time": "2023-01-19T12:03:41.714Z"
   },
   {
    "duration": 5,
    "start_time": "2023-01-19T12:03:45.966Z"
   },
   {
    "duration": 4,
    "start_time": "2023-01-19T12:03:46.949Z"
   },
   {
    "duration": 4,
    "start_time": "2023-01-19T12:03:47.876Z"
   },
   {
    "duration": 5,
    "start_time": "2023-01-19T12:05:21.397Z"
   },
   {
    "duration": 5,
    "start_time": "2023-01-19T12:05:22.188Z"
   },
   {
    "duration": 5,
    "start_time": "2023-01-19T12:05:22.876Z"
   },
   {
    "duration": 5,
    "start_time": "2023-01-19T12:09:56.653Z"
   },
   {
    "duration": 4,
    "start_time": "2023-01-19T12:10:57.453Z"
   },
   {
    "duration": 105,
    "start_time": "2023-01-19T12:10:59.949Z"
   },
   {
    "duration": 98,
    "start_time": "2023-01-19T12:11:11.031Z"
   },
   {
    "duration": 4,
    "start_time": "2023-01-19T12:11:23.967Z"
   },
   {
    "duration": 3,
    "start_time": "2023-01-19T12:12:37.181Z"
   },
   {
    "duration": 5,
    "start_time": "2023-01-19T12:12:47.933Z"
   },
   {
    "duration": 5,
    "start_time": "2023-01-19T12:12:51.661Z"
   },
   {
    "duration": 6,
    "start_time": "2023-01-19T12:13:25.965Z"
   },
   {
    "duration": 10,
    "start_time": "2023-01-19T12:16:09.627Z"
   },
   {
    "duration": 9,
    "start_time": "2023-01-19T12:16:18.922Z"
   },
   {
    "duration": 10,
    "start_time": "2023-01-19T12:18:16.845Z"
   },
   {
    "duration": 9,
    "start_time": "2023-01-19T12:18:25.631Z"
   },
   {
    "duration": 16,
    "start_time": "2023-01-19T12:28:44.377Z"
   },
   {
    "duration": 15,
    "start_time": "2023-01-19T12:29:00.822Z"
   },
   {
    "duration": 5,
    "start_time": "2023-01-19T12:32:52.868Z"
   },
   {
    "duration": 5,
    "start_time": "2023-01-19T12:32:57.731Z"
   },
   {
    "duration": 10,
    "start_time": "2023-01-19T12:33:04.874Z"
   },
   {
    "duration": 10,
    "start_time": "2023-01-19T12:37:35.560Z"
   },
   {
    "duration": 9,
    "start_time": "2023-01-19T12:37:45.662Z"
   },
   {
    "duration": 10,
    "start_time": "2023-01-19T12:37:50.861Z"
   },
   {
    "duration": 10,
    "start_time": "2023-01-19T12:37:57.959Z"
   },
   {
    "duration": 9,
    "start_time": "2023-01-19T12:39:24.688Z"
   },
   {
    "duration": 8,
    "start_time": "2023-01-19T12:39:34.856Z"
   },
   {
    "duration": 7,
    "start_time": "2023-01-19T12:39:52.784Z"
   },
   {
    "duration": 8,
    "start_time": "2023-01-19T12:39:57.688Z"
   },
   {
    "duration": 8,
    "start_time": "2023-01-19T12:40:09.421Z"
   },
   {
    "duration": 8,
    "start_time": "2023-01-19T12:42:15.750Z"
   },
   {
    "duration": 5,
    "start_time": "2023-01-19T12:42:20.361Z"
   },
   {
    "duration": 6,
    "start_time": "2023-01-19T12:43:31.874Z"
   },
   {
    "duration": 5,
    "start_time": "2023-01-19T12:45:07.771Z"
   },
   {
    "duration": 5,
    "start_time": "2023-01-19T12:45:15.151Z"
   },
   {
    "duration": 5,
    "start_time": "2023-01-19T12:45:18.849Z"
   },
   {
    "duration": 5,
    "start_time": "2023-01-19T12:45:23.047Z"
   },
   {
    "duration": 21,
    "start_time": "2023-01-19T12:47:02.252Z"
   },
   {
    "duration": 8,
    "start_time": "2023-01-19T12:47:30.533Z"
   },
   {
    "duration": 10,
    "start_time": "2023-01-19T12:48:34.845Z"
   },
   {
    "duration": 5,
    "start_time": "2023-01-19T12:54:53.250Z"
   },
   {
    "duration": 6,
    "start_time": "2023-01-19T12:55:00.094Z"
   },
   {
    "duration": 7,
    "start_time": "2023-01-19T12:55:24.223Z"
   },
   {
    "duration": 5,
    "start_time": "2023-01-19T12:55:45.694Z"
   },
   {
    "duration": 10,
    "start_time": "2023-01-19T12:56:09.746Z"
   },
   {
    "duration": 9,
    "start_time": "2023-01-19T12:56:18.958Z"
   },
   {
    "duration": 5,
    "start_time": "2023-01-19T12:56:27.950Z"
   },
   {
    "duration": 10,
    "start_time": "2023-01-19T12:56:37.367Z"
   },
   {
    "duration": 4,
    "start_time": "2023-01-19T12:57:08.833Z"
   },
   {
    "duration": 4,
    "start_time": "2023-01-19T12:57:58.694Z"
   },
   {
    "duration": 9,
    "start_time": "2023-01-19T12:59:00.983Z"
   },
   {
    "duration": 10,
    "start_time": "2023-01-19T12:59:52.271Z"
   },
   {
    "duration": 4,
    "start_time": "2023-01-19T13:00:33.005Z"
   },
   {
    "duration": 3,
    "start_time": "2023-01-19T13:41:54.793Z"
   },
   {
    "duration": 24,
    "start_time": "2023-01-19T13:41:57.238Z"
   },
   {
    "duration": 12,
    "start_time": "2023-01-19T13:41:59.334Z"
   },
   {
    "duration": 11,
    "start_time": "2023-01-19T13:42:02.470Z"
   },
   {
    "duration": 13,
    "start_time": "2023-01-19T13:42:07.461Z"
   },
   {
    "duration": 29,
    "start_time": "2023-01-19T13:42:18.342Z"
   },
   {
    "duration": 690,
    "start_time": "2023-01-19T13:48:44.640Z"
   },
   {
    "duration": 422,
    "start_time": "2023-01-19T13:48:55.231Z"
   },
   {
    "duration": 534,
    "start_time": "2023-01-19T13:49:53.329Z"
   },
   {
    "duration": 518,
    "start_time": "2023-01-19T13:50:21.095Z"
   },
   {
    "duration": 907,
    "start_time": "2023-01-19T13:51:27.456Z"
   },
   {
    "duration": 3,
    "start_time": "2023-01-19T13:53:37.355Z"
   },
   {
    "duration": 60,
    "start_time": "2023-01-19T13:53:37.360Z"
   },
   {
    "duration": 16,
    "start_time": "2023-01-19T13:53:37.422Z"
   },
   {
    "duration": 43,
    "start_time": "2023-01-19T13:53:37.440Z"
   },
   {
    "duration": 27,
    "start_time": "2023-01-19T13:53:37.485Z"
   },
   {
    "duration": 58,
    "start_time": "2023-01-19T13:53:37.513Z"
   },
   {
    "duration": 10,
    "start_time": "2023-01-19T13:53:52.696Z"
   },
   {
    "duration": 6,
    "start_time": "2023-01-19T13:54:56.737Z"
   },
   {
    "duration": 5,
    "start_time": "2023-01-19T13:55:07.177Z"
   },
   {
    "duration": 766,
    "start_time": "2023-01-19T13:57:50.848Z"
   },
   {
    "duration": 5,
    "start_time": "2023-01-19T13:58:29.429Z"
   },
   {
    "duration": 6,
    "start_time": "2023-01-19T13:58:43.427Z"
   },
   {
    "duration": 6,
    "start_time": "2023-01-19T13:58:49.225Z"
   },
   {
    "duration": 409,
    "start_time": "2023-01-19T16:19:32.007Z"
   },
   {
    "duration": 114,
    "start_time": "2023-01-19T16:19:32.418Z"
   },
   {
    "duration": 19,
    "start_time": "2023-01-19T16:19:32.533Z"
   },
   {
    "duration": 14,
    "start_time": "2023-01-19T16:19:32.554Z"
   },
   {
    "duration": 24,
    "start_time": "2023-01-19T16:19:32.570Z"
   },
   {
    "duration": 21,
    "start_time": "2023-01-19T16:19:32.595Z"
   },
   {
    "duration": 27,
    "start_time": "2023-01-19T16:19:32.618Z"
   },
   {
    "duration": 724,
    "start_time": "2023-01-19T16:19:32.646Z"
   },
   {
    "duration": 6,
    "start_time": "2023-01-19T16:19:33.371Z"
   },
   {
    "duration": 26,
    "start_time": "2023-01-19T16:19:33.378Z"
   },
   {
    "duration": 6,
    "start_time": "2023-01-19T16:19:33.405Z"
   },
   {
    "duration": 96,
    "start_time": "2023-01-19T16:19:33.413Z"
   },
   {
    "duration": 0,
    "start_time": "2023-01-19T16:19:33.511Z"
   },
   {
    "duration": 0,
    "start_time": "2023-01-19T16:19:33.512Z"
   },
   {
    "duration": 6,
    "start_time": "2023-01-19T16:20:51.697Z"
   },
   {
    "duration": 5,
    "start_time": "2023-01-19T16:21:11.617Z"
   },
   {
    "duration": 6,
    "start_time": "2023-01-19T16:21:14.261Z"
   },
   {
    "duration": 4,
    "start_time": "2023-01-19T16:22:00.105Z"
   },
   {
    "duration": 6,
    "start_time": "2023-01-19T16:24:49.008Z"
   },
   {
    "duration": 6,
    "start_time": "2023-01-19T16:24:58.706Z"
   },
   {
    "duration": 4,
    "start_time": "2023-01-19T16:25:23.959Z"
   },
   {
    "duration": 5,
    "start_time": "2023-01-19T16:26:12.674Z"
   },
   {
    "duration": 5,
    "start_time": "2023-01-19T16:26:15.882Z"
   },
   {
    "duration": 5,
    "start_time": "2023-01-19T16:26:19.270Z"
   },
   {
    "duration": 6,
    "start_time": "2023-01-19T16:26:24.924Z"
   },
   {
    "duration": 4,
    "start_time": "2023-01-19T16:26:27.385Z"
   },
   {
    "duration": 349,
    "start_time": "2023-01-19T16:33:48.203Z"
   },
   {
    "duration": 4,
    "start_time": "2023-01-19T16:33:55.090Z"
   },
   {
    "duration": 11,
    "start_time": "2023-01-19T16:33:58.253Z"
   },
   {
    "duration": 5,
    "start_time": "2023-01-19T16:34:01.960Z"
   },
   {
    "duration": 298,
    "start_time": "2023-01-19T16:34:20.075Z"
   },
   {
    "duration": 461,
    "start_time": "2023-01-20T06:24:18.442Z"
   },
   {
    "duration": 88,
    "start_time": "2023-01-20T06:24:21.038Z"
   },
   {
    "duration": 21,
    "start_time": "2023-01-20T06:24:25.394Z"
   },
   {
    "duration": 14,
    "start_time": "2023-01-20T06:24:27.960Z"
   },
   {
    "duration": 16,
    "start_time": "2023-01-20T06:24:29.502Z"
   },
   {
    "duration": 33,
    "start_time": "2023-01-20T06:24:32.863Z"
   },
   {
    "duration": 8,
    "start_time": "2023-01-20T06:24:35.853Z"
   },
   {
    "duration": 1097,
    "start_time": "2023-01-20T06:24:38.094Z"
   },
   {
    "duration": 5,
    "start_time": "2023-01-20T06:24:41.807Z"
   },
   {
    "duration": 10,
    "start_time": "2023-01-20T06:38:49.156Z"
   },
   {
    "duration": 8,
    "start_time": "2023-01-20T06:46:25.581Z"
   },
   {
    "duration": 5,
    "start_time": "2023-01-20T06:46:27.397Z"
   },
   {
    "duration": 481,
    "start_time": "2023-01-20T06:47:12.661Z"
   },
   {
    "duration": 85,
    "start_time": "2023-01-20T06:55:52.457Z"
   },
   {
    "duration": 72,
    "start_time": "2023-01-20T06:58:16.096Z"
   },
   {
    "duration": 4,
    "start_time": "2023-01-20T07:00:54.751Z"
   },
   {
    "duration": 6,
    "start_time": "2023-01-20T07:01:16.592Z"
   },
   {
    "duration": 4,
    "start_time": "2023-01-20T07:01:28.561Z"
   },
   {
    "duration": 4,
    "start_time": "2023-01-20T07:02:08.193Z"
   },
   {
    "duration": 5,
    "start_time": "2023-01-20T07:02:11.503Z"
   },
   {
    "duration": 4,
    "start_time": "2023-01-20T07:02:17.079Z"
   },
   {
    "duration": 4,
    "start_time": "2023-01-20T07:04:37.529Z"
   },
   {
    "duration": 7,
    "start_time": "2023-01-20T07:04:43.909Z"
   },
   {
    "duration": 4,
    "start_time": "2023-01-20T07:07:44.441Z"
   },
   {
    "duration": 4,
    "start_time": "2023-01-20T07:08:07.214Z"
   },
   {
    "duration": 5,
    "start_time": "2023-01-20T07:08:12.625Z"
   },
   {
    "duration": 6,
    "start_time": "2023-01-20T07:08:15.530Z"
   },
   {
    "duration": 9,
    "start_time": "2023-01-20T07:08:16.219Z"
   },
   {
    "duration": 114,
    "start_time": "2023-01-20T07:10:39.756Z"
   },
   {
    "duration": 5,
    "start_time": "2023-01-20T07:10:43.834Z"
   },
   {
    "duration": 451,
    "start_time": "2023-01-20T07:10:47.603Z"
   },
   {
    "duration": 5,
    "start_time": "2023-01-20T07:18:21.252Z"
   },
   {
    "duration": 3,
    "start_time": "2023-01-20T07:24:11.342Z"
   },
   {
    "duration": 10,
    "start_time": "2023-01-20T07:25:53.349Z"
   },
   {
    "duration": 6,
    "start_time": "2023-01-20T07:25:58.670Z"
   },
   {
    "duration": 6,
    "start_time": "2023-01-20T07:26:02.527Z"
   },
   {
    "duration": 4,
    "start_time": "2023-01-20T07:26:07.894Z"
   },
   {
    "duration": 9,
    "start_time": "2023-01-20T07:26:15.063Z"
   },
   {
    "duration": 4,
    "start_time": "2023-01-20T07:27:51.783Z"
   },
   {
    "duration": 13,
    "start_time": "2023-01-20T07:28:35.344Z"
   },
   {
    "duration": 12,
    "start_time": "2023-01-20T07:28:46.230Z"
   },
   {
    "duration": 12,
    "start_time": "2023-01-20T07:30:03.887Z"
   },
   {
    "duration": 9,
    "start_time": "2023-01-20T07:30:49.437Z"
   },
   {
    "duration": 7,
    "start_time": "2023-01-20T07:31:41.632Z"
   },
   {
    "duration": 7,
    "start_time": "2023-01-20T07:31:53.001Z"
   },
   {
    "duration": 11,
    "start_time": "2023-01-20T07:32:02.263Z"
   },
   {
    "duration": 15,
    "start_time": "2023-01-20T07:32:24.367Z"
   },
   {
    "duration": 4,
    "start_time": "2023-01-20T07:32:54.591Z"
   },
   {
    "duration": 1092,
    "start_time": "2023-01-20T07:36:06.076Z"
   },
   {
    "duration": 28,
    "start_time": "2023-01-20T07:36:07.170Z"
   },
   {
    "duration": 29,
    "start_time": "2023-01-20T07:36:07.200Z"
   },
   {
    "duration": 18,
    "start_time": "2023-01-20T07:36:07.231Z"
   },
   {
    "duration": 25,
    "start_time": "2023-01-20T07:36:07.252Z"
   },
   {
    "duration": 60,
    "start_time": "2023-01-20T07:36:07.279Z"
   },
   {
    "duration": 9,
    "start_time": "2023-01-20T07:36:07.342Z"
   },
   {
    "duration": 954,
    "start_time": "2023-01-20T07:36:07.353Z"
   },
   {
    "duration": 8,
    "start_time": "2023-01-20T07:36:08.310Z"
   },
   {
    "duration": 22,
    "start_time": "2023-01-20T07:36:08.319Z"
   },
   {
    "duration": 21,
    "start_time": "2023-01-20T07:36:08.342Z"
   },
   {
    "duration": 476,
    "start_time": "2023-01-20T07:36:08.365Z"
   },
   {
    "duration": 5,
    "start_time": "2023-01-20T07:36:08.843Z"
   },
   {
    "duration": 107,
    "start_time": "2023-01-20T07:36:08.853Z"
   },
   {
    "duration": 188,
    "start_time": "2023-01-20T07:36:08.963Z"
   },
   {
    "duration": 489,
    "start_time": "2023-01-20T07:36:09.153Z"
   },
   {
    "duration": 8,
    "start_time": "2023-01-20T07:36:09.645Z"
   },
   {
    "duration": 94,
    "start_time": "2023-01-20T07:36:09.656Z"
   },
   {
    "duration": 9,
    "start_time": "2023-01-20T07:36:09.753Z"
   },
   {
    "duration": 90,
    "start_time": "2023-01-20T07:36:09.764Z"
   },
   {
    "duration": 96,
    "start_time": "2023-01-20T07:36:09.856Z"
   },
   {
    "duration": 200,
    "start_time": "2023-01-20T07:36:09.954Z"
   },
   {
    "duration": 195,
    "start_time": "2023-01-20T07:36:10.156Z"
   },
   {
    "duration": 2374,
    "start_time": "2023-01-20T07:58:46.777Z"
   },
   {
    "duration": 88,
    "start_time": "2023-01-20T07:58:49.154Z"
   },
   {
    "duration": 22,
    "start_time": "2023-01-20T07:59:04.185Z"
   },
   {
    "duration": 11,
    "start_time": "2023-01-20T07:59:04.777Z"
   },
   {
    "duration": 16,
    "start_time": "2023-01-20T07:59:05.211Z"
   },
   {
    "duration": 25,
    "start_time": "2023-01-20T07:59:05.449Z"
   },
   {
    "duration": 9,
    "start_time": "2023-01-20T07:59:06.734Z"
   },
   {
    "duration": 981,
    "start_time": "2023-01-20T07:59:06.745Z"
   },
   {
    "duration": 5,
    "start_time": "2023-01-20T07:59:07.728Z"
   },
   {
    "duration": 8,
    "start_time": "2023-01-20T08:02:27.770Z"
   },
   {
    "duration": 4,
    "start_time": "2023-01-20T08:02:29.449Z"
   },
   {
    "duration": 452,
    "start_time": "2023-01-20T08:02:30.539Z"
   },
   {
    "duration": 4,
    "start_time": "2023-01-20T08:02:32.287Z"
   },
   {
    "duration": 7,
    "start_time": "2023-01-20T08:02:35.970Z"
   },
   {
    "duration": 5,
    "start_time": "2023-01-20T08:03:24.040Z"
   },
   {
    "duration": 511,
    "start_time": "2023-01-20T08:03:24.980Z"
   },
   {
    "duration": 5,
    "start_time": "2023-01-20T08:03:26.790Z"
   },
   {
    "duration": 5,
    "start_time": "2023-01-20T08:42:58.442Z"
   },
   {
    "duration": 159,
    "start_time": "2023-01-20T08:42:58.450Z"
   },
   {
    "duration": 25,
    "start_time": "2023-01-20T08:42:58.615Z"
   },
   {
    "duration": 42,
    "start_time": "2023-01-20T08:42:58.643Z"
   },
   {
    "duration": 29,
    "start_time": "2023-01-20T08:42:58.688Z"
   },
   {
    "duration": 48,
    "start_time": "2023-01-20T08:42:58.720Z"
   },
   {
    "duration": 6,
    "start_time": "2023-01-20T08:42:58.773Z"
   },
   {
    "duration": 1173,
    "start_time": "2023-01-20T08:42:58.782Z"
   },
   {
    "duration": 7,
    "start_time": "2023-01-20T08:42:59.957Z"
   },
   {
    "duration": 8,
    "start_time": "2023-01-20T08:44:50.466Z"
   },
   {
    "duration": 128492,
    "start_time": "2023-01-20T08:45:41.654Z"
   },
   {
    "duration": 44879,
    "start_time": "2023-01-20T08:48:38.836Z"
   },
   {
    "duration": 26154,
    "start_time": "2023-01-20T08:49:28.472Z"
   },
   {
    "duration": 1264,
    "start_time": "2023-01-20T08:50:11.942Z"
   },
   {
    "duration": 31,
    "start_time": "2023-01-20T08:50:13.208Z"
   },
   {
    "duration": 28,
    "start_time": "2023-01-20T08:50:13.241Z"
   },
   {
    "duration": 15,
    "start_time": "2023-01-20T08:50:13.273Z"
   },
   {
    "duration": 51,
    "start_time": "2023-01-20T08:50:13.290Z"
   },
   {
    "duration": 35,
    "start_time": "2023-01-20T08:50:13.343Z"
   },
   {
    "duration": 9,
    "start_time": "2023-01-20T08:50:13.380Z"
   },
   {
    "duration": 1028,
    "start_time": "2023-01-20T08:50:13.391Z"
   },
   {
    "duration": 7,
    "start_time": "2023-01-20T08:50:14.421Z"
   },
   {
    "duration": 3,
    "start_time": "2023-01-20T08:50:14.442Z"
   },
   {
    "duration": 34993,
    "start_time": "2023-01-20T08:50:16.583Z"
   },
   {
    "duration": 7,
    "start_time": "2023-01-20T08:51:04.494Z"
   },
   {
    "duration": 310,
    "start_time": "2023-01-20T08:51:23.903Z"
   },
   {
    "duration": 186,
    "start_time": "2023-01-20T08:51:41.935Z"
   },
   {
    "duration": 50058,
    "start_time": "2023-01-20T08:51:56.533Z"
   },
   {
    "duration": 71,
    "start_time": "2023-01-20T08:53:13.551Z"
   },
   {
    "duration": 244,
    "start_time": "2023-01-20T08:53:34.982Z"
   },
   {
    "duration": 7,
    "start_time": "2023-01-20T08:53:56.280Z"
   },
   {
    "duration": 4,
    "start_time": "2023-01-20T08:55:18.942Z"
   },
   {
    "duration": 50,
    "start_time": "2023-01-20T08:55:18.949Z"
   },
   {
    "duration": 20,
    "start_time": "2023-01-20T08:55:19.001Z"
   },
   {
    "duration": 42,
    "start_time": "2023-01-20T08:55:19.023Z"
   },
   {
    "duration": 30,
    "start_time": "2023-01-20T08:55:19.068Z"
   },
   {
    "duration": 42,
    "start_time": "2023-01-20T08:55:19.101Z"
   },
   {
    "duration": 19,
    "start_time": "2023-01-20T08:55:19.146Z"
   },
   {
    "duration": 12,
    "start_time": "2023-01-20T08:55:19.168Z"
   },
   {
    "duration": 41,
    "start_time": "2023-01-20T08:55:19.182Z"
   },
   {
    "duration": 19,
    "start_time": "2023-01-20T08:55:19.225Z"
   },
   {
    "duration": 6,
    "start_time": "2023-01-20T08:55:25.968Z"
   },
   {
    "duration": 35622,
    "start_time": "2023-01-20T08:55:38.895Z"
   },
   {
    "duration": 225,
    "start_time": "2023-01-20T09:00:08.872Z"
   },
   {
    "duration": 18,
    "start_time": "2023-01-20T09:00:15.082Z"
   },
   {
    "duration": 21,
    "start_time": "2023-01-20T09:00:18.187Z"
   },
   {
    "duration": 14,
    "start_time": "2023-01-20T09:02:08.852Z"
   },
   {
    "duration": 102,
    "start_time": "2023-01-20T09:02:17.194Z"
   },
   {
    "duration": 11,
    "start_time": "2023-01-20T09:02:59.927Z"
   },
   {
    "duration": 551,
    "start_time": "2023-01-20T09:03:21.291Z"
   },
   {
    "duration": 199,
    "start_time": "2023-01-20T09:08:58.668Z"
   },
   {
    "duration": 169,
    "start_time": "2023-01-20T09:09:17.997Z"
   },
   {
    "duration": 3,
    "start_time": "2023-01-20T09:09:57.920Z"
   },
   {
    "duration": 18858,
    "start_time": "2023-01-20T09:12:11.342Z"
   },
   {
    "duration": 303,
    "start_time": "2023-01-20T09:12:39.574Z"
   },
   {
    "duration": 255,
    "start_time": "2023-01-20T09:13:29.626Z"
   },
   {
    "duration": 210,
    "start_time": "2023-01-20T09:15:43.422Z"
   },
   {
    "duration": 335,
    "start_time": "2023-01-20T09:16:49.855Z"
   },
   {
    "duration": 306,
    "start_time": "2023-01-20T09:17:19.662Z"
   },
   {
    "duration": 257,
    "start_time": "2023-01-20T09:20:00.362Z"
   },
   {
    "duration": 12,
    "start_time": "2023-01-20T09:20:22.112Z"
   },
   {
    "duration": 252,
    "start_time": "2023-01-20T09:20:49.288Z"
   },
   {
    "duration": 241,
    "start_time": "2023-01-20T09:21:05.272Z"
   },
   {
    "duration": 12,
    "start_time": "2023-01-20T09:28:52.609Z"
   },
   {
    "duration": 11,
    "start_time": "2023-01-20T09:28:58.313Z"
   },
   {
    "duration": 10,
    "start_time": "2023-01-20T09:29:27.786Z"
   },
   {
    "duration": 11,
    "start_time": "2023-01-20T09:29:54.153Z"
   },
   {
    "duration": 10,
    "start_time": "2023-01-20T09:30:44.953Z"
   },
   {
    "duration": 10,
    "start_time": "2023-01-20T09:30:57.827Z"
   },
   {
    "duration": 72,
    "start_time": "2023-01-20T09:31:29.707Z"
   },
   {
    "duration": 13,
    "start_time": "2023-01-20T09:33:52.580Z"
   },
   {
    "duration": 13,
    "start_time": "2023-01-20T09:35:37.315Z"
   },
   {
    "duration": 113,
    "start_time": "2023-01-20T09:35:42.331Z"
   },
   {
    "duration": 84,
    "start_time": "2023-01-20T09:35:46.212Z"
   },
   {
    "duration": 106,
    "start_time": "2023-01-20T09:36:28.812Z"
   },
   {
    "duration": 199,
    "start_time": "2023-01-20T09:37:26.060Z"
   },
   {
    "duration": 200,
    "start_time": "2023-01-20T09:38:04.094Z"
   },
   {
    "duration": 176,
    "start_time": "2023-01-20T09:38:12.277Z"
   },
   {
    "duration": 207,
    "start_time": "2023-01-20T09:38:40.078Z"
   },
   {
    "duration": 281,
    "start_time": "2023-01-20T09:38:53.748Z"
   },
   {
    "duration": 345,
    "start_time": "2023-01-20T09:40:30.637Z"
   },
   {
    "duration": 345,
    "start_time": "2023-01-20T09:43:53.174Z"
   },
   {
    "duration": 428,
    "start_time": "2023-01-20T09:44:16.615Z"
   },
   {
    "duration": 435,
    "start_time": "2023-01-20T09:44:27.062Z"
   },
   {
    "duration": 392,
    "start_time": "2023-01-20T09:44:38.120Z"
   },
   {
    "duration": 201,
    "start_time": "2023-01-20T09:45:27.711Z"
   },
   {
    "duration": 279,
    "start_time": "2023-01-20T09:45:44.073Z"
   },
   {
    "duration": 335,
    "start_time": "2023-01-20T09:46:22.706Z"
   },
   {
    "duration": 421,
    "start_time": "2023-01-20T09:46:28.775Z"
   },
   {
    "duration": 73,
    "start_time": "2023-01-20T09:46:47.103Z"
   },
   {
    "duration": 328,
    "start_time": "2023-01-20T09:46:51.839Z"
   },
   {
    "duration": 338,
    "start_time": "2023-01-20T09:47:14.441Z"
   },
   {
    "duration": 349,
    "start_time": "2023-01-20T09:47:24.399Z"
   },
   {
    "duration": 330,
    "start_time": "2023-01-20T09:48:43.702Z"
   },
   {
    "duration": 433,
    "start_time": "2023-01-20T09:49:11.889Z"
   },
   {
    "duration": 354,
    "start_time": "2023-01-20T09:49:19.799Z"
   },
   {
    "duration": 331,
    "start_time": "2023-01-20T09:49:27.119Z"
   },
   {
    "duration": 372,
    "start_time": "2023-01-20T09:49:40.841Z"
   },
   {
    "duration": 347,
    "start_time": "2023-01-20T09:49:47.870Z"
   },
   {
    "duration": 343,
    "start_time": "2023-01-20T09:51:11.897Z"
   },
   {
    "duration": 334,
    "start_time": "2023-01-20T09:51:23.977Z"
   },
   {
    "duration": 343,
    "start_time": "2023-01-20T09:51:31.195Z"
   },
   {
    "duration": 359,
    "start_time": "2023-01-20T09:52:15.289Z"
   },
   {
    "duration": 356,
    "start_time": "2023-01-20T09:52:39.473Z"
   },
   {
    "duration": 337,
    "start_time": "2023-01-20T09:52:49.809Z"
   },
   {
    "duration": 5,
    "start_time": "2023-01-20T09:53:31.596Z"
   },
   {
    "duration": 37,
    "start_time": "2023-01-20T09:53:31.603Z"
   },
   {
    "duration": 15,
    "start_time": "2023-01-20T09:53:31.642Z"
   },
   {
    "duration": 34,
    "start_time": "2023-01-20T09:53:31.660Z"
   },
   {
    "duration": 32,
    "start_time": "2023-01-20T09:53:31.696Z"
   },
   {
    "duration": 45,
    "start_time": "2023-01-20T09:53:31.729Z"
   },
   {
    "duration": 10,
    "start_time": "2023-01-20T09:53:31.776Z"
   },
   {
    "duration": 848,
    "start_time": "2023-01-20T09:53:31.788Z"
   },
   {
    "duration": 7,
    "start_time": "2023-01-20T09:53:32.640Z"
   },
   {
    "duration": 18,
    "start_time": "2023-01-20T09:53:32.649Z"
   },
   {
    "duration": 398,
    "start_time": "2023-01-20T09:53:32.669Z"
   },
   {
    "duration": 341,
    "start_time": "2023-01-20T09:53:33.068Z"
   },
   {
    "duration": 380,
    "start_time": "2023-01-20T09:55:54.689Z"
   },
   {
    "duration": 1380,
    "start_time": "2023-01-20T11:09:26.552Z"
   },
   {
    "duration": 26,
    "start_time": "2023-01-20T11:09:27.934Z"
   },
   {
    "duration": 16,
    "start_time": "2023-01-20T11:09:27.961Z"
   },
   {
    "duration": 28,
    "start_time": "2023-01-20T11:09:27.979Z"
   },
   {
    "duration": 29,
    "start_time": "2023-01-20T11:09:28.009Z"
   },
   {
    "duration": 33,
    "start_time": "2023-01-20T11:09:28.040Z"
   },
   {
    "duration": 8,
    "start_time": "2023-01-20T11:09:28.076Z"
   },
   {
    "duration": 1042,
    "start_time": "2023-01-20T11:09:28.085Z"
   },
   {
    "duration": 17,
    "start_time": "2023-01-20T11:09:29.130Z"
   },
   {
    "duration": 31,
    "start_time": "2023-01-20T11:09:29.151Z"
   },
   {
    "duration": 427,
    "start_time": "2023-01-20T11:09:29.184Z"
   },
   {
    "duration": 369,
    "start_time": "2023-01-20T11:09:29.613Z"
   },
   {
    "duration": 9,
    "start_time": "2023-01-20T11:09:29.983Z"
   },
   {
    "duration": 17,
    "start_time": "2023-01-20T11:09:29.994Z"
   },
   {
    "duration": 534,
    "start_time": "2023-01-20T11:09:30.013Z"
   },
   {
    "duration": 91,
    "start_time": "2023-01-20T11:09:30.549Z"
   },
   {
    "duration": 27,
    "start_time": "2023-01-20T11:09:30.642Z"
   },
   {
    "duration": 168,
    "start_time": "2023-01-20T11:09:30.673Z"
   },
   {
    "duration": 399,
    "start_time": "2023-01-20T11:09:30.843Z"
   },
   {
    "duration": 98,
    "start_time": "2023-01-20T11:09:31.245Z"
   },
   {
    "duration": 41,
    "start_time": "2023-01-20T11:09:31.345Z"
   },
   {
    "duration": 52,
    "start_time": "2023-01-20T11:09:31.388Z"
   },
   {
    "duration": 98,
    "start_time": "2023-01-20T11:09:31.442Z"
   },
   {
    "duration": 105,
    "start_time": "2023-01-20T11:09:31.547Z"
   },
   {
    "duration": 190,
    "start_time": "2023-01-20T11:09:31.654Z"
   },
   {
    "duration": 195,
    "start_time": "2023-01-20T11:09:31.846Z"
   }
  ],
  "kernelspec": {
   "display_name": "Python 3 (ipykernel)",
   "language": "python",
   "name": "python3"
  },
  "language_info": {
   "codemirror_mode": {
    "name": "ipython",
    "version": 3
   },
   "file_extension": ".py",
   "mimetype": "text/x-python",
   "name": "python",
   "nbconvert_exporter": "python",
   "pygments_lexer": "ipython3",
   "version": "3.9.16"
  },
  "toc": {
   "base_numbering": 1,
   "nav_menu": {},
   "number_sections": true,
   "sideBar": true,
   "skip_h1_title": true,
   "title_cell": "Содержание",
   "title_sidebar": "Contents",
   "toc_cell": true,
   "toc_position": {
    "height": "calc(100% - 180px)",
    "left": "10px",
    "top": "150px",
    "width": "272.188px"
   },
   "toc_section_display": true,
   "toc_window_display": true
  }
 },
 "nbformat": 4,
 "nbformat_minor": 2
}
